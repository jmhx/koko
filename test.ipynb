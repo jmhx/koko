{
 "cells": [
  {
   "cell_type": "code",
   "execution_count": 4,
   "id": "e3004b99-65fb-447f-b001-f055635ac842",
   "metadata": {},
   "outputs": [
    {
     "data": {
      "text/plain": [
       "15"
      ]
     },
     "execution_count": 4,
     "metadata": {},
     "output_type": "execute_result"
    }
   ],
   "source": [
    "def fa(p1,p2) :\n",
    "    return p1*p2\n",
    "fa(3,5)"
   ]
  },
  {
   "cell_type": "code",
   "execution_count": null,
   "id": "713788a3-328c-41f6-8873-b0029494adec",
   "metadata": {},
   "outputs": [],
   "source": []
  }
 ],
 "metadata": {
  "kernelspec": {
   "display_name": "Python 3 (ipykernel)",
   "language": "python",
   "name": "python3"
  },
  "language_info": {
   "codemirror_mode": {
    "name": "ipython",
    "version": 3
   },
   "file_extension": ".py",
   "mimetype": "text/x-python",
   "name": "python",
   "nbconvert_exporter": "python",
   "pygments_lexer": "ipython3",
   "version": "3.10.6"
  }
 },
 "nbformat": 4,
 "nbformat_minor": 5
}
